{
  "nbformat": 4,
  "nbformat_minor": 0,
  "metadata": {
    "colab": {
      "name": "md5.ipynb",
      "provenance": [],
      "collapsed_sections": [],
      "authorship_tag": "ABX9TyPJ+ps2yayQfhQeHXC1c54Q",
      "include_colab_link": true
    },
    "kernelspec": {
      "name": "python3",
      "display_name": "Python 3"
    },
    "language_info": {
      "name": "python"
    }
  },
  "cells": [
    {
      "cell_type": "markdown",
      "metadata": {
        "id": "view-in-github",
        "colab_type": "text"
      },
      "source": [
        "<a href=\"https://colab.research.google.com/github/rakeshnrk7777/shape-ai-project-md5/blob/main/md5.ipynb\" target=\"_parent\"><img src=\"https://colab.research.google.com/assets/colab-badge.svg\" alt=\"Open In Colab\"/></a>"
      ]
    },
    {
      "cell_type": "code",
      "metadata": {
        "colab": {
          "base_uri": "https://localhost:8080/"
        },
        "id": "Cg6MEJC63TEK",
        "outputId": "6bdd2c4c-5df8-456c-ef34-9789a7608c80"
      },
      "source": [
        "import hashlib\n",
        "\n",
        "def hash():\n",
        "  a = input(\"enter data\\n\")\n",
        "  encode = a.encode()\n",
        "  hash = hashlib.md5(encode)\n",
        "  temp = hash.hexdigest()\n",
        "  print ( 'hashed data:' ,temp ) \n",
        "  #print (hashlib.algorithms_available)\n",
        "hash() "
      ],
      "execution_count": 32,
      "outputs": [
        {
          "output_type": "stream",
          "text": [
            "enter data\n",
            "buri\n",
            "hashed data: d4c60b95e0cb5eb74e18581f74d70201\n"
          ],
          "name": "stdout"
        }
      ]
    }
  ]
}