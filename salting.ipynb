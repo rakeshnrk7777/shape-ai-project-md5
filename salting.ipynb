{
  "nbformat": 4,
  "nbformat_minor": 0,
  "metadata": {
    "colab": {
      "name": "salting.ipynb",
      "provenance": [],
      "collapsed_sections": [],
      "authorship_tag": "ABX9TyPnAjtGER2R+jcHQR+ZWqmf",
      "include_colab_link": true
    },
    "kernelspec": {
      "name": "python3",
      "display_name": "Python 3"
    },
    "language_info": {
      "name": "python"
    }
  },
  "cells": [
    {
      "cell_type": "markdown",
      "metadata": {
        "id": "view-in-github",
        "colab_type": "text"
      },
      "source": [
        "<a href=\"https://colab.research.google.com/github/rakeshnrk7777/shape-ai-project-md5/blob/main/salting.ipynb\" target=\"_parent\"><img src=\"https://colab.research.google.com/assets/colab-badge.svg\" alt=\"Open In Colab\"/></a>"
      ]
    },
    {
      "cell_type": "code",
      "metadata": {
        "colab": {
          "base_uri": "https://localhost:8080/"
        },
        "id": "mmGIdXnJaKn4",
        "outputId": "f91aa40c-f2e0-4407-aece-bbecb627621d"
      },
      "source": [
        "import hashlib\n",
        "\n",
        "def hash(x):\n",
        "  encode = x.encode()\n",
        "  hash = hashlib.md5(encode)\n",
        "  temp = hash.hexdigest()\n",
        "  return temp\n",
        "y=input(\" enter data:  \")\n",
        "z=[]\n",
        "z.append(hash(y))\n",
        "for i in range(int(input(\"no of times hashing:\"))):\n",
        "  z.append(hash(z[i]))\n",
        "for i in z:\n",
        "  print(i)\n"
      ],
      "execution_count": null,
      "outputs": [
        {
          "output_type": "stream",
          "text": [
            " enter data:  prathyu\n",
            "no of times hash:1\n",
            "9102357087c023dddb7f4511678b3706\n",
            "45709d6d51834bd11ab2b2f534f667b8\n"
          ],
          "name": "stdout"
        }
      ]
    }
  ]
}